{
 "cells": [
  {
   "cell_type": "markdown",
   "metadata": {},
   "source": [
    "## Generating model spectra at rest-frame\n",
    "\n",
    "piXedfit uses [FSPS](https://github.com/cconroy20/fsps) for modeling the SED of galaxies. With the Python binding via [Python-FSPS](https://dfm.io/python-fsps/current/), generating model SEDs can be done on the fly in the SED fitting process. However, some tasks require a generation of model spectra in a fast pace, which turn out to be difficult to be achieved. These tasks include generation of model SEDs that is used as reference in the spectral matching between the Imaging and IFS data ([here](https://github.com/aabdurrouf/piXedfit/blob/main/examples/FUVtoNIR_MaNGA/Step4_matching_img_ifs_part2.ipynb) and [here](https://github.com/aabdurrouf/piXedfit/blob/main/examples/FUVtoNIR_CALIFA/Step4_matching_img_ifs_part2.ipynb)), SED fitting with the random dense sampling of parameter space (RDSPS), and initial fitting (i.e., burning up) before running SED fitting with MCMC method (note that the MCMC fitting uses on-the-fly generation of model SEDs). \n",
    "\n",
    "For that reason, piXedfit provides an option for generating a set of model spectra (in a rest-frame) prior to the analyses. The models are stored in the HDF5 format. The model spectra can be generated using function `piXedfit.piXedfit_model.save_models_rest_spec`. Please see the API reference [here](https://pixedfit.readthedocs.io/en/latest/piXedfit_model.html#piXedfit.piXedfit_model.save_models_rest_spec) for more information about this function. In practice, user only need to generate this set of models once, then these models can be used for various analyses to multiple galaxies."
   ]
  },
  {
   "cell_type": "markdown",
   "metadata": {},
   "source": [
    "Below is few examples of scripts for generating model spectra."
   ]
  },
  {
   "cell_type": "markdown",
   "metadata": {},
   "source": [
    "### Script 1\n",
    "\n",
    "These models are generated with the fllowing configuration: Chabrier (2003) initial mass function (IMF), double power-law star formation history (SFH), two-components dust attenuation model of Charlot & Fall (2000), switched off dust emission, switched on nebular emission, and switched off AGN dusty torus emission. This script will produce 100000 models and the calculations are distributed into 20 cores."
   ]
  },
  {
   "cell_type": "code",
   "execution_count": null,
   "metadata": {},
   "outputs": [],
   "source": [
    "from piXedfit.piXedfit_model import save_models_rest_spec\n",
    "\n",
    "imf_type = 1                    # Chabrier (2003) IMF\n",
    "sfh_form = 4                    # double power law SFH form\n",
    "dust_law = 0                    # Charlot & Fall (2000) dust attenuation law\n",
    "duste_switch = 0                # turn off dust emission\n",
    "add_neb_emission = 1            # turn on nebular emission\n",
    "add_agn = 0                     # turn off AGN dusty torus emission\n",
    "\n",
    "nmodels = 100000                # number of model spectra to be generated\n",
    "nproc = 20                      # number of processors to be used in the calculation\n",
    "\n",
    "# define ranges of some parameters\n",
    "params_range = {'log_age':[-1.0,1.14], 'dust1':[0.0,3.0], 'dust2':[0.0,3.0]}\n",
    "\n",
    "name_out = 's_cb_dpl_cf_nde_na_100k.hdf5'     # name of the output HDF5 file\n",
    "save_models_rest_spec(imf_type=imf_type, sfh_form=sfh_form, dust_law=dust_law, params_range=params_range,\n",
    "                        duste_switch=duste_switch, add_neb_emission=add_neb_emission, add_agn=add_agn,\n",
    "                        nmodels=nmodels,nproc=nproc, name_out=name_out)"
   ]
  },
  {
   "cell_type": "markdown",
   "metadata": {},
   "source": [
    "### Script 2\n",
    "\n",
    "Configuration: Chabrier (2003) initial mass function (IMF), double power-law star formation history (SFH), two-components dust attenuation model of Charlot & Fall (2000), switched on dust emission, switched on nebular emission, and switched on AGN dusty torus emission. This script will produce 100000 models and the calculations are distributed into 20 cores."
   ]
  },
  {
   "cell_type": "code",
   "execution_count": null,
   "metadata": {},
   "outputs": [],
   "source": [
    "from piXedfit.piXedfit_model import save_models_rest_spec\n",
    "\n",
    "imf_type = 1                    # Chabrier (2003) IMF\n",
    "sfh_form = 4                    # double power law SFH form\n",
    "dust_law = 0                    # Charlot & Fall (2000) dust attenuation law\n",
    "duste_switch = 1                # turn on dust emission\n",
    "add_neb_emission = 1            # turn on nebular emission\n",
    "add_agn = 1                     # turn on AGN dusty torus emission\n",
    "\n",
    "nmodels = 100000                # number of model spectra to be generated\n",
    "nproc = 20                      # number of processors to be used in the calculation\n",
    "\n",
    "# define ranges of some parameters\n",
    "params_range = {'log_age':[-1.0,1.14], 'dust1':[0.0,3.0], 'dust2':[0.0,3.0]}\n",
    "\n",
    "name_out = 's_cb_dpl_cf_de_a_100k.hdf5'     # name of the output HDF5 file\n",
    "save_models_rest_spec(imf_type=imf_type, sfh_form=sfh_form, dust_law=dust_law, params_range=params_range,\n",
    "                        duste_switch=duste_switch, add_neb_emission=add_neb_emission, add_agn=add_agn,\n",
    "                        nmodels=nmodels,nproc=nproc, name_out=name_out)"
   ]
  },
  {
   "cell_type": "markdown",
   "metadata": {},
   "source": [
    "### Script 3\n",
    "\n",
    "Configuration: Chabrier (2003) initial mass function (IMF), double power-law star formation history (SFH), two-components dust attenuation model of Charlot & Fall (2000), switched on dust emission, switched on nebular emission, and switched off AGN dusty torus emission. This script will produce 100000 models and the calculations are distributed into 20 cores."
   ]
  },
  {
   "cell_type": "code",
   "execution_count": null,
   "metadata": {},
   "outputs": [],
   "source": [
    "from piXedfit.piXedfit_model import save_models_rest_spec\n",
    "\n",
    "imf_type = 1                    # Chabrier (2003) IMF\n",
    "sfh_form = 4                    # double power law SFH form\n",
    "dust_law = 0                    # Charlot & Fall (2000) dust attenuation law\n",
    "duste_switch = 1                # turn on dust emission\n",
    "add_neb_emission = 1            # turn on nebular emission\n",
    "add_agn = 0                     # turn off AGN dusty torus emission\n",
    "\n",
    "nmodels = 100000                # number of model spectra to be generated\n",
    "nproc = 20                      # number of processors to be used in the calculation\n",
    "\n",
    "# define ranges of some parameters\n",
    "params_range = {'log_age':[-1.0,1.14], 'dust1':[0.0,3.0], 'dust2':[0.0,3.0]}\n",
    "\n",
    "name_out = 's_cb_dpl_cf_de_na_100k.hdf5'     # name of the output HDF5 file\n",
    "save_models_rest_spec(imf_type=imf_type, sfh_form=sfh_form, dust_law=dust_law, params_range=params_range,\n",
    "                        duste_switch=duste_switch, add_neb_emission=add_neb_emission, add_agn=add_agn,\n",
    "                        nmodels=nmodels,nproc=nproc, name_out=name_out)"
   ]
  }
 ],
 "metadata": {
  "kernelspec": {
   "display_name": "Python 3 (ipykernel)",
   "language": "python",
   "name": "python3"
  },
  "language_info": {
   "codemirror_mode": {
    "name": "ipython",
    "version": 3
   },
   "file_extension": ".py",
   "mimetype": "text/x-python",
   "name": "python",
   "nbconvert_exporter": "python",
   "pygments_lexer": "ipython3",
   "version": "3.7.13"
  }
 },
 "nbformat": 4,
 "nbformat_minor": 4
}
