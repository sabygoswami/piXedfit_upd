{
 "cells": [
  {
   "cell_type": "markdown",
   "id": "a0fdb030",
   "metadata": {},
   "source": [
    "## Downloading imaging Data\n",
    "\n",
    "This tutorial demonstrates how to automatically download imaging data from GALEX, SDSS, 2MASS, and WISE using some function in the `piXedfit_images` module. These functions are written by Han Tang Lin (Tyler https://github.com/Tylerastro).  "
   ]
  },
  {
   "cell_type": "code",
   "execution_count": 1,
   "id": "d9e9c600",
   "metadata": {},
   "outputs": [],
   "source": [
    "from astropy.coordinates import SkyCoord\n",
    "import astropy.units as u\n",
    "\n",
    "import warnings\n",
    "warnings.filterwarnings('ignore')"
   ]
  },
  {
   "cell_type": "markdown",
   "id": "0c7f2d94",
   "metadata": {},
   "source": [
    "### 1. Galaxy's coordinate"
   ]
  },
  {
   "cell_type": "code",
   "execution_count": 2,
   "id": "a249e86f",
   "metadata": {},
   "outputs": [],
   "source": [
    "gal_ra = 14.177751925               \n",
    "gal_dec = -9.913864294\n",
    "\n",
    "# define position in the astropy.coordinates format\n",
    "pos = SkyCoord(ra=gal_ra*u.deg, dec=gal_dec*u.deg)"
   ]
  },
  {
   "cell_type": "markdown",
   "id": "dae97061",
   "metadata": {},
   "source": [
    "### 2. Download GALEX images"
   ]
  },
  {
   "cell_type": "code",
   "execution_count": 3,
   "id": "9e3bec91",
   "metadata": {
    "scrolled": true
   },
   "outputs": [
    {
     "name": "stdout",
     "output_type": "stream",
     "text": [
      "Downloading URL https://mast.stsci.edu/api/v0.1/Download/file?uri=mast:GALEX/url/data/GR6/pipe/01-vsn/21098-GI1_009100_NGC0309/d/00-visits/0001-img/07-try/GI1_009100_NGC0309_0001-fd-intbgsub.fits.gz to /data/users/abdurrouf/test_piXedfit_release/FUVtoNIR_CALIFA/ngc309/test_download/GI1_009100_NGC0309_0001-fd-intbgsub.fits.gz ... [Done]\n",
      "Downloading URL https://mast.stsci.edu/api/v0.1/Download/file?uri=mast:GALEX/url/data/GR6/pipe/01-vsn/21098-GI1_009100_NGC0309/d/00-visits/0001-img/07-try/GI1_009100_NGC0309_0001-fd-skybg.fits.gz to /data/users/abdurrouf/test_piXedfit_release/FUVtoNIR_CALIFA/ngc309/test_download/GI1_009100_NGC0309_0001-fd-skybg.fits.gz ... [Done]\n",
      "Downloading URL https://mast.stsci.edu/api/v0.1/Download/file?uri=mast:GALEX/url/data/GR6/pipe/01-vsn/21098-GI1_009100_NGC0309/d/00-visits/0001-img/07-try/GI1_009100_NGC0309_0001-nd-intbgsub.fits.gz to /data/users/abdurrouf/test_piXedfit_release/FUVtoNIR_CALIFA/ngc309/test_download/GI1_009100_NGC0309_0001-nd-intbgsub.fits.gz ... [Done]\n",
      "Downloading URL https://mast.stsci.edu/api/v0.1/Download/file?uri=mast:GALEX/url/data/GR6/pipe/01-vsn/21098-GI1_009100_NGC0309/d/00-visits/0001-img/07-try/GI1_009100_NGC0309_0001-nd-skybg.fits.gz to /data/users/abdurrouf/test_piXedfit_release/FUVtoNIR_CALIFA/ngc309/test_download/GI1_009100_NGC0309_0001-nd-skybg.fits.gz ... [Done]\n",
      "Downloading URL https://mast.stsci.edu/api/v0.1/Download/file?uri=mast:GALEX/url/data/GR6/pipe/01-vsn/21098-GI1_009100_NGC0309/d/00-visits/0001-img/07-try/GI1_009100_NGC0309_0001-fd-int.fits.gz to /data/users/abdurrouf/test_piXedfit_release/FUVtoNIR_CALIFA/ngc309/test_download/GI1_009100_NGC0309_0001-fd-int.fits.gz ... [Done]\n",
      "Downloading URL https://mast.stsci.edu/api/v0.1/Download/file?uri=mast:GALEX/url/data/GR6/pipe/01-vsn/21098-GI1_009100_NGC0309/d/00-visits/0001-img/07-try/GI1_009100_NGC0309_0001-nd-int.fits.gz to /data/users/abdurrouf/test_piXedfit_release/FUVtoNIR_CALIFA/ngc309/test_download/GI1_009100_NGC0309_0001-nd-int.fits.gz ... [Done]\n",
      "Downloading URL https://mast.stsci.edu/api/v0.1/Download/file?uri=mast:GALEX/url/data/GR6/pipe/01-vsn/21098-GI1_009100_NGC0309/d/01-main/0001-img/07-try/GI1_009100_NGC0309-fd-intbgsub.fits.gz to /data/users/abdurrouf/test_piXedfit_release/FUVtoNIR_CALIFA/ngc309/test_download/GI1_009100_NGC0309-fd-intbgsub.fits.gz ... [Done]\n",
      "Downloading URL https://mast.stsci.edu/api/v0.1/Download/file?uri=mast:GALEX/url/data/GR6/pipe/01-vsn/21098-GI1_009100_NGC0309/d/01-main/0001-img/07-try/GI1_009100_NGC0309-nd-intbgsub.fits.gz to /data/users/abdurrouf/test_piXedfit_release/FUVtoNIR_CALIFA/ngc309/test_download/GI1_009100_NGC0309-nd-intbgsub.fits.gz ... [Done]\n",
      "Downloading URL https://mast.stsci.edu/api/v0.1/Download/file?uri=mast:GALEX/url/data/GR6/pipe/01-vsn/21098-GI1_009100_NGC0309/d/01-main/0001-img/07-try/GI1_009100_NGC0309-fd-skybg.fits.gz to /data/users/abdurrouf/test_piXedfit_release/FUVtoNIR_CALIFA/ngc309/test_download/GI1_009100_NGC0309-fd-skybg.fits.gz ... [Done]\n",
      "Downloading URL https://mast.stsci.edu/api/v0.1/Download/file?uri=mast:GALEX/url/data/GR6/pipe/01-vsn/21098-GI1_009100_NGC0309/d/01-main/0001-img/07-try/GI1_009100_NGC0309-nd-skybg.fits.gz to /data/users/abdurrouf/test_piXedfit_release/FUVtoNIR_CALIFA/ngc309/test_download/GI1_009100_NGC0309-nd-skybg.fits.gz ... [Done]\n",
      "Downloading URL https://mast.stsci.edu/api/v0.1/Download/file?uri=mast:GALEX/url/data/GR6/pipe/01-vsn/21098-GI1_009100_NGC0309/d/01-main/0001-img/07-try/GI1_009100_NGC0309-fd-int.fits.gz to /data/users/abdurrouf/test_piXedfit_release/FUVtoNIR_CALIFA/ngc309/test_download/GI1_009100_NGC0309-fd-int.fits.gz ... [Done]\n",
      "Downloading URL https://mast.stsci.edu/api/v0.1/Download/file?uri=mast:GALEX/url/data/GR6/pipe/01-vsn/21098-GI1_009100_NGC0309/d/01-main/0001-img/07-try/GI1_009100_NGC0309-nd-int.fits.gz to /data/users/abdurrouf/test_piXedfit_release/FUVtoNIR_CALIFA/ngc309/test_download/GI1_009100_NGC0309-nd-int.fits.gz ... [Done]\n",
      "Downloading URL https://mast.stsci.edu/api/v0.1/Download/file?uri=mast:GALEX/url/data/GR6/pipe/02-vsn/50271-AIS_271/d/00-visits/0001-img/07-try/AIS_271_0001_sg11-fd-intbgsub.fits.gz to /data/users/abdurrouf/test_piXedfit_release/FUVtoNIR_CALIFA/ngc309/test_download/AIS_271_0001_sg11-fd-intbgsub.fits.gz ... [Done]\n",
      "Downloading URL https://mast.stsci.edu/api/v0.1/Download/file?uri=mast:GALEX/url/data/GR6/pipe/02-vsn/50271-AIS_271/d/00-visits/0001-img/07-try/AIS_271_0001_sg11-fd-skybg.fits.gz to /data/users/abdurrouf/test_piXedfit_release/FUVtoNIR_CALIFA/ngc309/test_download/AIS_271_0001_sg11-fd-skybg.fits.gz ... [Done]\n",
      "Downloading URL https://mast.stsci.edu/api/v0.1/Download/file?uri=mast:GALEX/url/data/GR6/pipe/02-vsn/50271-AIS_271/d/00-visits/0001-img/07-try/AIS_271_0001_sg11-nd-intbgsub.fits.gz to /data/users/abdurrouf/test_piXedfit_release/FUVtoNIR_CALIFA/ngc309/test_download/AIS_271_0001_sg11-nd-intbgsub.fits.gz ... [Done]\n",
      "Downloading URL https://mast.stsci.edu/api/v0.1/Download/file?uri=mast:GALEX/url/data/GR6/pipe/02-vsn/50271-AIS_271/d/00-visits/0001-img/07-try/AIS_271_0001_sg11-nd-skybg.fits.gz to /data/users/abdurrouf/test_piXedfit_release/FUVtoNIR_CALIFA/ngc309/test_download/AIS_271_0001_sg11-nd-skybg.fits.gz ... [Done]\n",
      "Downloading URL https://mast.stsci.edu/api/v0.1/Download/file?uri=mast:GALEX/url/data/GR6/pipe/02-vsn/50271-AIS_271/d/00-visits/0001-img/07-try/AIS_271_0001_sg11-fd-int.fits.gz to /data/users/abdurrouf/test_piXedfit_release/FUVtoNIR_CALIFA/ngc309/test_download/AIS_271_0001_sg11-fd-int.fits.gz ... [Done]\n",
      "Downloading URL https://mast.stsci.edu/api/v0.1/Download/file?uri=mast:GALEX/url/data/GR6/pipe/02-vsn/50271-AIS_271/d/00-visits/0001-img/07-try/AIS_271_0001_sg11-nd-int.fits.gz to /data/users/abdurrouf/test_piXedfit_release/FUVtoNIR_CALIFA/ngc309/test_download/AIS_271_0001_sg11-nd-int.fits.gz ... [Done]\n",
      "Downloading URL https://mast.stsci.edu/api/v0.1/Download/file?uri=mast:GALEX/url/data/GR6/pipe/02-vsn/50271-AIS_271/d/00-visits/0002-img/07-try/AIS_271_0002_sg11-fd-intbgsub.fits.gz to /data/users/abdurrouf/test_piXedfit_release/FUVtoNIR_CALIFA/ngc309/test_download/AIS_271_0002_sg11-fd-intbgsub.fits.gz ... [Done]\n",
      "Downloading URL https://mast.stsci.edu/api/v0.1/Download/file?uri=mast:GALEX/url/data/GR6/pipe/02-vsn/50271-AIS_271/d/00-visits/0002-img/07-try/AIS_271_0002_sg11-fd-skybg.fits.gz to /data/users/abdurrouf/test_piXedfit_release/FUVtoNIR_CALIFA/ngc309/test_download/AIS_271_0002_sg11-fd-skybg.fits.gz ... [Done]\n",
      "Downloading URL https://mast.stsci.edu/api/v0.1/Download/file?uri=mast:GALEX/url/data/GR6/pipe/02-vsn/50271-AIS_271/d/00-visits/0002-img/07-try/AIS_271_0002_sg11-nd-intbgsub.fits.gz to /data/users/abdurrouf/test_piXedfit_release/FUVtoNIR_CALIFA/ngc309/test_download/AIS_271_0002_sg11-nd-intbgsub.fits.gz ... [Done]\n",
      "Downloading URL https://mast.stsci.edu/api/v0.1/Download/file?uri=mast:GALEX/url/data/GR6/pipe/02-vsn/50271-AIS_271/d/00-visits/0002-img/07-try/AIS_271_0002_sg11-nd-skybg.fits.gz to /data/users/abdurrouf/test_piXedfit_release/FUVtoNIR_CALIFA/ngc309/test_download/AIS_271_0002_sg11-nd-skybg.fits.gz ... [Done]\n",
      "Downloading URL https://mast.stsci.edu/api/v0.1/Download/file?uri=mast:GALEX/url/data/GR6/pipe/02-vsn/50271-AIS_271/d/00-visits/0002-img/07-try/AIS_271_0002_sg11-fd-int.fits.gz to /data/users/abdurrouf/test_piXedfit_release/FUVtoNIR_CALIFA/ngc309/test_download/AIS_271_0002_sg11-fd-int.fits.gz ... [Done]\n",
      "Downloading URL https://mast.stsci.edu/api/v0.1/Download/file?uri=mast:GALEX/url/data/GR6/pipe/02-vsn/50271-AIS_271/d/00-visits/0002-img/07-try/AIS_271_0002_sg11-nd-int.fits.gz to /data/users/abdurrouf/test_piXedfit_release/FUVtoNIR_CALIFA/ngc309/test_download/AIS_271_0002_sg11-nd-int.fits.gz ... [Done]\n",
      "Downloading URL https://mast.stsci.edu/api/v0.1/Download/file?uri=mast:GALEX/url/data/GR6/pipe/02-vsn/50271-AIS_271/d/01-main/0001-img/07-try/AIS_271_sg11-fd-intbgsub.fits.gz to /data/users/abdurrouf/test_piXedfit_release/FUVtoNIR_CALIFA/ngc309/test_download/AIS_271_sg11-fd-intbgsub.fits.gz ... [Done]\n",
      "Downloading URL https://mast.stsci.edu/api/v0.1/Download/file?uri=mast:GALEX/url/data/GR6/pipe/02-vsn/50271-AIS_271/d/01-main/0001-img/07-try/AIS_271_sg11-nd-intbgsub.fits.gz to /data/users/abdurrouf/test_piXedfit_release/FUVtoNIR_CALIFA/ngc309/test_download/AIS_271_sg11-nd-intbgsub.fits.gz ... [Done]\n",
      "Downloading URL https://mast.stsci.edu/api/v0.1/Download/file?uri=mast:GALEX/url/data/GR6/pipe/02-vsn/50271-AIS_271/d/01-main/0001-img/07-try/AIS_271_sg11-fd-skybg.fits.gz to /data/users/abdurrouf/test_piXedfit_release/FUVtoNIR_CALIFA/ngc309/test_download/AIS_271_sg11-fd-skybg.fits.gz ... [Done]\n",
      "Downloading URL https://mast.stsci.edu/api/v0.1/Download/file?uri=mast:GALEX/url/data/GR6/pipe/02-vsn/50271-AIS_271/d/01-main/0001-img/07-try/AIS_271_sg11-nd-skybg.fits.gz to /data/users/abdurrouf/test_piXedfit_release/FUVtoNIR_CALIFA/ngc309/test_download/AIS_271_sg11-nd-skybg.fits.gz ... [Done]\n",
      "Downloading URL https://mast.stsci.edu/api/v0.1/Download/file?uri=mast:GALEX/url/data/GR6/pipe/02-vsn/50271-AIS_271/d/01-main/0001-img/07-try/AIS_271_sg11-fd-int.fits.gz to /data/users/abdurrouf/test_piXedfit_release/FUVtoNIR_CALIFA/ngc309/test_download/AIS_271_sg11-fd-int.fits.gz ... [Done]\n",
      "Downloading URL https://mast.stsci.edu/api/v0.1/Download/file?uri=mast:GALEX/url/data/GR6/pipe/02-vsn/50271-AIS_271/d/01-main/0001-img/07-try/AIS_271_sg11-nd-int.fits.gz to /data/users/abdurrouf/test_piXedfit_release/FUVtoNIR_CALIFA/ngc309/test_download/AIS_271_sg11-nd-int.fits.gz ... [Done]\n"
     ]
    }
   ],
   "source": [
    "from piXedfit.piXedfit_images import dwd_galex\n",
    "\n",
    "dwd_galex(pos)"
   ]
  },
  {
   "cell_type": "markdown",
   "id": "f820a9ce",
   "metadata": {},
   "source": [
    "### 3. Download SDSS images"
   ]
  },
  {
   "cell_type": "code",
   "execution_count": 3,
   "id": "fad451de",
   "metadata": {},
   "outputs": [
    {
     "name": "stdout",
     "output_type": "stream",
     "text": [
      "u image downloaded\n",
      "g image downloaded\n",
      "r image downloaded\n",
      "i image downloaded\n",
      "z image downloaded\n"
     ]
    }
   ],
   "source": [
    "from piXedfit.piXedfit_images import dwd_sdss\n",
    "\n",
    "dwd_sdss(pos)"
   ]
  },
  {
   "cell_type": "markdown",
   "id": "97e09b60",
   "metadata": {},
   "source": [
    "### 4. Download 2MASS images"
   ]
  },
  {
   "cell_type": "code",
   "execution_count": 4,
   "id": "1d46257a",
   "metadata": {},
   "outputs": [],
   "source": [
    "from piXedfit.piXedfit_images import dwd_2mass\n",
    "\n",
    "dwd_2mass(pos)"
   ]
  },
  {
   "cell_type": "markdown",
   "id": "1f94a6f8",
   "metadata": {},
   "source": [
    "### 5. Download WISE images"
   ]
  },
  {
   "cell_type": "code",
   "execution_count": 5,
   "id": "61a423c9",
   "metadata": {},
   "outputs": [],
   "source": [
    "from piXedfit.piXedfit_images import dwd_wise\n",
    "\n",
    "dwd_wise(pos)"
   ]
  },
  {
   "cell_type": "code",
   "execution_count": null,
   "id": "1086726b",
   "metadata": {},
   "outputs": [],
   "source": []
  }
 ],
 "metadata": {
  "kernelspec": {
   "display_name": "Python 3 (ipykernel)",
   "language": "python",
   "name": "python3"
  },
  "language_info": {
   "codemirror_mode": {
    "name": "ipython",
    "version": 3
   },
   "file_extension": ".py",
   "mimetype": "text/x-python",
   "name": "python",
   "nbconvert_exporter": "python",
   "pygments_lexer": "ipython3",
   "version": "3.7.13"
  }
 },
 "nbformat": 4,
 "nbformat_minor": 5
}
